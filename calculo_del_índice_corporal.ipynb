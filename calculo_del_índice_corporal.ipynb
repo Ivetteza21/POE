{
  "nbformat": 4,
  "nbformat_minor": 0,
  "metadata": {
    "colab": {
      "name": "calculo del índice corporal.ipynb",
      "provenance": [],
      "authorship_tag": "ABX9TyNS8jRXT+Sg2Qj65psrqPp8",
      "include_colab_link": true
    },
    "kernelspec": {
      "name": "python3",
      "display_name": "Python 3"
    },
    "language_info": {
      "name": "python"
    }
  },
  "cells": [
    {
      "cell_type": "markdown",
      "metadata": {
        "id": "view-in-github",
        "colab_type": "text"
      },
      "source": [
        "<a href=\"https://colab.research.google.com/github/Ivetteza21/POE/blob/gh-pages/calculo_del_%C3%ADndice_corporal.ipynb\" target=\"_parent\"><img src=\"https://colab.research.google.com/assets/colab-badge.svg\" alt=\"Open In Colab\"/></a>"
      ]
    },
    {
      "cell_type": "code",
      "execution_count": 10,
      "metadata": {
        "colab": {
          "base_uri": "https://localhost:8080/"
        },
        "cellView": "form",
        "id": "4UUTduO-47OE",
        "outputId": "f6bd9daf-0ed2-4263-de11-f6cbf84f2fa0"
      },
      "outputs": [
        {
          "output_type": "stream",
          "name": "stdout",
          "text": [
            "19.531249999999996\n"
          ]
        }
      ],
      "source": [
        "#@title Calculo del indice corporal { run: \"auto\", vertical-output: true }\n",
        "Estatura =  1.60#@param {type:\"number\"}\n",
        "Peso =  50#@param {type:\"number\"}\n",
        "print((Peso)/(Estatura*Estatura))\n"
      ]
    }
  ]
}